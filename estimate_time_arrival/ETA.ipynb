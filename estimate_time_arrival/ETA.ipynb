{
 "cells": [
  {
   "cell_type": "code",
   "execution_count": 1,
   "metadata": {},
   "outputs": [],
   "source": [
    "import pandas as pd\n",
    "import json \n",
    "import datetime as dt\n",
    "import requests\n",
    "import numpy as np\n",
    "from sklearn.preprocessing import LabelEncoder \n",
    "from sklearn.preprocessing import MinMaxScaler\n",
    "from matplotlib import pyplot as plt\n",
    "from sklearn.model_selection import train_test_split, KFold\n",
    "from sklearn.metrics import mean_squared_error, mean_absolute_error\n",
    "import lightgbm as lgb\n",
    "import seaborn as sns\n",
    "import xgboost as xgb \n",
    "from sklearn.ensemble import AdaBoostRegressor\n",
    "from sklearn.ensemble import GradientBoostingRegressor\n",
    "from sklearn.ensemble import RandomForestRegressor\n",
    "from sklearn.pipeline import make_pipeline\n",
    "from sklearn.preprocessing import StandardScaler\n",
    "from sklearn.cluster import KMeans\n",
    "from scipy.cluster.hierarchy import linkage\n",
    "from scipy.cluster.hierarchy import dendrogram\n",
    "from sklearn.manifold import TSNE\n",
    "from sklearn.decomposition import PCA"
   ]
  },
  {
   "cell_type": "markdown",
   "metadata": {},
   "source": [
    "## Mục đích: Dự báo thời gian giao hàng và đến lấy hàng của từng orders\n",
    "#### - Thời gian giao hàng (Delivery time)\n",
    "#### - Thời gian đến lấy hàng (Accept time)"
   ]
  },
  {
   "cell_type": "markdown",
   "metadata": {},
   "source": [
    "# 1. Delivery time"
   ]
  },
  {
   "cell_type": "markdown",
   "metadata": {},
   "source": [
    "# *SGN"
   ]
  },
  {
   "cell_type": "markdown",
   "metadata": {},
   "source": [
    "## Extract data"
   ]
  },
  {
   "cell_type": "markdown",
   "metadata": {},
   "source": [
    "#### - Data được sử dụng từ 1/10/2019- 1/11/2019\n",
    "#### - Data lấy từ bảng order có status COMPLETED với các service_id (BIKE, POOL, DG, LUX)\n",
    "#### - Đơn chỉ có 1 điểm giao"
   ]
  },
  {
   "cell_type": "markdown",
   "metadata": {},
   "source": [
    "## Feature engineering"
   ]
  },
  {
   "cell_type": "code",
   "execution_count": 2,
   "metadata": {},
   "outputs": [],
   "source": [
    "df=pd.read_csv('./data_SGN.csv')"
   ]
  },
  {
   "cell_type": "code",
   "execution_count": 3,
   "metadata": {},
   "outputs": [],
   "source": [
    "df4=pd.read_csv('./SGN_v.csv').drop(columns=\"Unnamed: 0\")"
   ]
  },
  {
   "cell_type": "code",
   "execution_count": 4,
   "metadata": {},
   "outputs": [],
   "source": [
    "m=round(df4.avg_time.mean(),3)\n",
    "df=df.merge(df4,how='left',on='supplier_id')\n",
    "df['avg_time']=df.avg_time.fillna(m)"
   ]
  },
  {
   "cell_type": "code",
   "execution_count": 5,
   "metadata": {},
   "outputs": [],
   "source": [
    "df['accept']=round((df['board_time'].astype('datetime64')-df['accept_time'].astype('datetime64')).dt.total_seconds()/60,0)"
   ]
  },
  {
   "cell_type": "code",
   "execution_count": 6,
   "metadata": {},
   "outputs": [],
   "source": [
    "df['run_time']=round((df['complete_time'].astype('datetime64')-df['board_time'].astype('datetime64')).dt.total_seconds()/60,0)"
   ]
  },
  {
   "cell_type": "code",
   "execution_count": 7,
   "metadata": {},
   "outputs": [],
   "source": [
    "def toNumeric(dataframe, fromAtt, toAtt):\n",
    "  from sklearn import preprocessing\n",
    "  if dataframe[fromAtt].dtype == type(object):\n",
    "      le = preprocessing.LabelEncoder()# Dummies / One Hot Encoder  \n",
    "      dataframe[toAtt] = le.fit_transform(dataframe[fromAtt].astype(str))   \n",
    "  return dataframe"
   ]
  },
  {
   "cell_type": "code",
   "execution_count": 8,
   "metadata": {},
   "outputs": [],
   "source": [
    "df = toNumeric(df, 'service_id', 'n_service')\n",
    "df = toNumeric(df, 'address_0', 'n_address_0')\n",
    "df = toNumeric(df, 'address_1', 'n_address_1')\n",
    "df = toNumeric(df, 'hex_0', 'n_hex_0')\n",
    "df = toNumeric(df, 'hex_1', 'n_hex_1')\n",
    "# df.fillna(0,inplace=True)"
   ]
  },
  {
   "cell_type": "code",
   "execution_count": 9,
   "metadata": {},
   "outputs": [
    {
     "data": {
      "text/html": [
       "<div>\n",
       "<style scoped>\n",
       "    .dataframe tbody tr th:only-of-type {\n",
       "        vertical-align: middle;\n",
       "    }\n",
       "\n",
       "    .dataframe tbody tr th {\n",
       "        vertical-align: top;\n",
       "    }\n",
       "\n",
       "    .dataframe thead th {\n",
       "        text-align: right;\n",
       "    }\n",
       "</style>\n",
       "<table border=\"1\" class=\"dataframe\">\n",
       "  <thead>\n",
       "    <tr style=\"text-align: right;\">\n",
       "      <th></th>\n",
       "      <th>distance</th>\n",
       "      <th>service_id</th>\n",
       "      <th>lng_0</th>\n",
       "      <th>lat_0</th>\n",
       "      <th>cod</th>\n",
       "      <th>total_fee</th>\n",
       "      <th>lng_1</th>\n",
       "      <th>lat_1</th>\n",
       "      <th>revenue</th>\n",
       "      <th>hour</th>\n",
       "      <th>minute</th>\n",
       "      <th>dow</th>\n",
       "      <th>ss</th>\n",
       "      <th>avg_time</th>\n",
       "      <th>address_0</th>\n",
       "      <th>address_1</th>\n",
       "      <th>hex_0</th>\n",
       "      <th>hex_1</th>\n",
       "      <th>run_time</th>\n",
       "    </tr>\n",
       "  </thead>\n",
       "  <tbody>\n",
       "    <tr>\n",
       "      <th>0</th>\n",
       "      <td>8.68</td>\n",
       "      <td>SGN-BIKE</td>\n",
       "      <td>106.651202</td>\n",
       "      <td>10.795638</td>\n",
       "      <td>2055000.0</td>\n",
       "      <td>79000.0</td>\n",
       "      <td>106.687763</td>\n",
       "      <td>10.773822</td>\n",
       "      <td>60356.0</td>\n",
       "      <td>14</td>\n",
       "      <td>21</td>\n",
       "      <td>2</td>\n",
       "      <td>861.0</td>\n",
       "      <td>12.022</td>\n",
       "      <td>Quận Tân Bình</td>\n",
       "      <td>Quận 3</td>\n",
       "      <td>8865b566a5fffff</td>\n",
       "      <td>8865b5663dfffff</td>\n",
       "      <td>1073.0</td>\n",
       "    </tr>\n",
       "    <tr>\n",
       "      <th>1</th>\n",
       "      <td>5.61</td>\n",
       "      <td>SGN-BIKE</td>\n",
       "      <td>106.660011</td>\n",
       "      <td>10.771982</td>\n",
       "      <td>0.0</td>\n",
       "      <td>32000.0</td>\n",
       "      <td>106.700074</td>\n",
       "      <td>10.772555</td>\n",
       "      <td>24448.0</td>\n",
       "      <td>16</td>\n",
       "      <td>20</td>\n",
       "      <td>2</td>\n",
       "      <td>980.0</td>\n",
       "      <td>12.093</td>\n",
       "      <td>Quận 10</td>\n",
       "      <td>Quận 1</td>\n",
       "      <td>8865b566e1fffff</td>\n",
       "      <td>8865b5662bfffff</td>\n",
       "      <td>1116.0</td>\n",
       "    </tr>\n",
       "    <tr>\n",
       "      <th>2</th>\n",
       "      <td>7.41</td>\n",
       "      <td>SGN-BIKE</td>\n",
       "      <td>106.670841</td>\n",
       "      <td>10.794029</td>\n",
       "      <td>185000.0</td>\n",
       "      <td>41000.0</td>\n",
       "      <td>106.684835</td>\n",
       "      <td>10.742579</td>\n",
       "      <td>31324.0</td>\n",
       "      <td>18</td>\n",
       "      <td>19</td>\n",
       "      <td>2</td>\n",
       "      <td>1099.0</td>\n",
       "      <td>12.129</td>\n",
       "      <td>Quận Phú Nhuận</td>\n",
       "      <td>Quận 8</td>\n",
       "      <td>8865b5645dfffff</td>\n",
       "      <td>8865b56657fffff</td>\n",
       "      <td>1142.0</td>\n",
       "    </tr>\n",
       "    <tr>\n",
       "      <th>3</th>\n",
       "      <td>9.83</td>\n",
       "      <td>SGN-BIKE</td>\n",
       "      <td>106.639543</td>\n",
       "      <td>10.820590</td>\n",
       "      <td>0.0</td>\n",
       "      <td>53000.0</td>\n",
       "      <td>106.693697</td>\n",
       "      <td>10.791234</td>\n",
       "      <td>40492.0</td>\n",
       "      <td>18</td>\n",
       "      <td>53</td>\n",
       "      <td>2</td>\n",
       "      <td>1133.0</td>\n",
       "      <td>13.967</td>\n",
       "      <td>Quận Tân Bình</td>\n",
       "      <td>Quận 1</td>\n",
       "      <td>8865b564e9fffff</td>\n",
       "      <td>8865b56449fffff</td>\n",
       "      <td>869.0</td>\n",
       "    </tr>\n",
       "    <tr>\n",
       "      <th>4</th>\n",
       "      <td>7.70</td>\n",
       "      <td>SGN-BIKE</td>\n",
       "      <td>106.640269</td>\n",
       "      <td>10.795700</td>\n",
       "      <td>0.0</td>\n",
       "      <td>42000.0</td>\n",
       "      <td>106.689485</td>\n",
       "      <td>10.763651</td>\n",
       "      <td>32088.0</td>\n",
       "      <td>19</td>\n",
       "      <td>26</td>\n",
       "      <td>2</td>\n",
       "      <td>1166.0</td>\n",
       "      <td>13.222</td>\n",
       "      <td>Quận Tân Bình</td>\n",
       "      <td>Quận 1</td>\n",
       "      <td>8865b566a7fffff</td>\n",
       "      <td>8865b56603fffff</td>\n",
       "      <td>661.0</td>\n",
       "    </tr>\n",
       "  </tbody>\n",
       "</table>\n",
       "</div>"
      ],
      "text/plain": [
       "   distance service_id       lng_0      lat_0        cod  total_fee  \\\n",
       "0      8.68   SGN-BIKE  106.651202  10.795638  2055000.0    79000.0   \n",
       "1      5.61   SGN-BIKE  106.660011  10.771982        0.0    32000.0   \n",
       "2      7.41   SGN-BIKE  106.670841  10.794029   185000.0    41000.0   \n",
       "3      9.83   SGN-BIKE  106.639543  10.820590        0.0    53000.0   \n",
       "4      7.70   SGN-BIKE  106.640269  10.795700        0.0    42000.0   \n",
       "\n",
       "        lng_1      lat_1  revenue  hour  minute  dow      ss  avg_time  \\\n",
       "0  106.687763  10.773822  60356.0    14      21    2   861.0    12.022   \n",
       "1  106.700074  10.772555  24448.0    16      20    2   980.0    12.093   \n",
       "2  106.684835  10.742579  31324.0    18      19    2  1099.0    12.129   \n",
       "3  106.693697  10.791234  40492.0    18      53    2  1133.0    13.967   \n",
       "4  106.689485  10.763651  32088.0    19      26    2  1166.0    13.222   \n",
       "\n",
       "        address_0 address_1            hex_0            hex_1  run_time  \n",
       "0   Quận Tân Bình    Quận 3  8865b566a5fffff  8865b5663dfffff    1073.0  \n",
       "1         Quận 10    Quận 1  8865b566e1fffff  8865b5662bfffff    1116.0  \n",
       "2  Quận Phú Nhuận    Quận 8  8865b5645dfffff  8865b56657fffff    1142.0  \n",
       "3   Quận Tân Bình    Quận 1  8865b564e9fffff  8865b56449fffff     869.0  \n",
       "4   Quận Tân Bình    Quận 1  8865b566a7fffff  8865b56603fffff     661.0  "
      ]
     },
     "execution_count": 9,
     "metadata": {},
     "output_type": "execute_result"
    }
   ],
   "source": [
    "df[['distance','service_id','lng_0','lat_0','cod','total_fee','lng_1','lat_1','revenue','hour',\n",
    "        'minute','dow','ss','avg_time','address_0','address_1','hex_0','hex_1','run_time']].head()"
   ]
  },
  {
   "cell_type": "markdown",
   "metadata": {},
   "source": [
    "### Feature cơ bản\n",
    "#### - distance, service_id, cod, total_fee, revenue\n",
    "\n",
    "### Feature location\n",
    "#### - lat_0, lng_0 : lat, lng của điểm lấy hàng\n",
    "#### - lat_1, lng_1: lat,lng của điểm giao hàng\n",
    "#### - address_0, address_1: quận của điểm lấy hàng và giao hàng\n",
    "#### - hex_0, hex_1: hexagon tương ứng với điểm lấy hàng và giao hàng ( H3 Resolution= 8)\n",
    "\n",
    "### Feature time\n",
    "#### - hour, minute, dow, ss: giờ, phút, ngày, giây của thời điểm tài xế nhận đơn\n",
    "\n",
    "### Feature other\n",
    "#### - avg_time: vận tốc trung bình của tài xế trong 2 tháng gần nhất\n"
   ]
  },
  {
   "cell_type": "markdown",
   "metadata": {},
   "source": [
    "## Phân bố Vận tốc"
   ]
  },
  {
   "cell_type": "code",
   "execution_count": 10,
   "metadata": {},
   "outputs": [
    {
     "data": {
      "text/plain": [
       "<matplotlib.axes._subplots.AxesSubplot at 0x7f0b90e23080>"
      ]
     },
     "execution_count": 10,
     "metadata": {},
     "output_type": "execute_result"
    },
    {
     "data": {
      "image/png": "[encoded data removed]",
      "text/plain": [
       "<Figure size 432x288 with 1 Axes>"
      ]
     },
     "metadata": {
      "needs_background": "light"
     },
     "output_type": "display_data"
    }
   ],
   "source": [
    "df['v']=df['distance']*60/df['run_time']\n",
    "sns.boxplot(df.v)"
   ]
  },
  {
   "cell_type": "markdown",
   "metadata": {},
   "source": [
    "#### Có thể thấy được vận tốc chạy từ 0 -2000  km/h.  8 (percentile  20%) - 16 (percentile 75%). Lý do là tài xế ấn hoàn thành ngay sau khi nhận đơn or quên không ấn hoàn thành.\n",
    "#### Cần phải loại bỏ những trường hợp gây nhiễu => chỉ lấy vận tốc trong khoảng [8,30] km/h"
   ]
  },
  {
   "cell_type": "code",
   "execution_count": 11,
   "metadata": {},
   "outputs": [],
   "source": [
    "df1=df[(df.v>=8)&(df.v<30)]"
   ]
  },
  {
   "cell_type": "code",
   "execution_count": 12,
   "metadata": {},
   "outputs": [],
   "source": [
    "df2=df1[['distance','n_service','lng_0','lat_0','cod','total_fee','lng_1','lat_1','revenue','hour',\n",
    "        'minute','dow','ss','avg_time','n_address_0','n_address_1','n_hex_0','n_hex_1','run_time']]"
   ]
  },
  {
   "cell_type": "code",
   "execution_count": 13,
   "metadata": {},
   "outputs": [],
   "source": [
    "X=df2.drop([\"run_time\"],axis=1)\n",
    "y=df2[\"run_time\"]"
   ]
  },
  {
   "cell_type": "markdown",
   "metadata": {},
   "source": [
    "#### Shape data"
   ]
  },
  {
   "cell_type": "code",
   "execution_count": 14,
   "metadata": {},
   "outputs": [
    {
     "data": {
      "text/plain": [
       "(372947, 18)"
      ]
     },
     "execution_count": 14,
     "metadata": {},
     "output_type": "execute_result"
    }
   ],
   "source": [
    "np.shape(X)"
   ]
  },
  {
   "cell_type": "markdown",
   "metadata": {},
   "source": [
    "### Model"
   ]
  },
  {
   "cell_type": "markdown",
   "metadata": {},
   "source": [
    "#### Data gồm 18 feature\n",
    "#### Model dự báo thời gian mà tài xế sẽ giao từ lúc nhận hàng (run_time)\n",
    "#### Metric: RMSE và MAE"
   ]
  },
  {
   "cell_type": "code",
   "execution_count": 15,
   "metadata": {},
   "outputs": [],
   "source": [
    "scaler = MinMaxScaler(feature_range=(0, 1))\n",
    "x = scaler.fit_transform(X)"
   ]
  },
  {
   "cell_type": "code",
   "execution_count": 16,
   "metadata": {},
   "outputs": [],
   "source": [
    "x_train, x_test, y_train, y_test = train_test_split(x, y, test_size=0.25, shuffle=True)"
   ]
  },
  {
   "cell_type": "code",
   "execution_count": 17,
   "metadata": {},
   "outputs": [],
   "source": [
    "model = xgb.XGBRegressor(random_state=1,learning_rate=0.2)\n",
    "model.fit(x_train,y_train)\n",
    "#Predict \n",
    "ythat = model.predict(x_test)\n",
    "a1=np.sqrt(mean_squared_error(y_test, ythat))\n",
    "b1=mean_absolute_error(y_test,ythat)"
   ]
  },
  {
   "cell_type": "code",
   "execution_count": 18,
   "metadata": {},
   "outputs": [],
   "source": [
    "model=lgb.LGBMRegressor(n_estimators=1000)\n",
    "model.fit(x_train,y_train)\n",
    "#Predict \n",
    "ythat = model.predict(x_test)\n",
    "a2=np.sqrt(mean_squared_error(y_test, ythat))\n",
    "b2=mean_absolute_error(y_test,ythat)"
   ]
  },
  {
   "cell_type": "code",
   "execution_count": 19,
   "metadata": {},
   "outputs": [],
   "source": [
    "model = GradientBoostingRegressor(random_state=1, n_estimators=300)\n",
    "model.fit(x_train,y_train)\n",
    "#Predict \n",
    "ythat = model.predict(x_test)\n",
    "a3=np.sqrt(mean_squared_error(y_test, ythat))\n",
    "b3=mean_absolute_error(y_test,ythat)"
   ]
  },
  {
   "cell_type": "code",
   "execution_count": 20,
   "metadata": {},
   "outputs": [],
   "source": [
    "from sklearn.neural_network import MLPRegressor\n",
    "model = MLPRegressor(hidden_layer_sizes=(25,),activation='relu',\n",
    "               solver='adam',\n",
    "               learning_rate='adaptive',\n",
    "               max_iter=1000,\n",
    "               learning_rate_init=0.01,\n",
    "               alpha=0.01)\n",
    "model.fit(x_train,y_train)\n",
    "ythat = model.predict(x_test)\n",
    "a4=np.sqrt(mean_squared_error(y_test, ythat))\n",
    "b4=mean_absolute_error(y_test,ythat)"
   ]
  },
  {
   "cell_type": "code",
   "execution_count": 21,
   "metadata": {},
   "outputs": [],
   "source": [
    "from sklearn.ensemble import VotingRegressor\n",
    "model1 = xgb.XGBRegressor(random_state=1,learning_rate=0.2)\n",
    "model2 = lgb.LGBMRegressor()\n",
    "model3 = GradientBoostingRegressor(random_state=1, n_estimators=300)\n",
    "model = VotingRegressor([('xgb', model1), ('lgbm', model2), ('gb', model3)])\n",
    "model.fit(x_train,y_train)\n",
    "#Predict \n",
    "ythat = model.predict(x_test)\n",
    "a5=np.sqrt(mean_squared_error(y_test, ythat))\n",
    "b5=mean_absolute_error(y_test,ythat)"
   ]
  },
  {
   "cell_type": "markdown",
   "metadata": {},
   "source": [
    "#### Kết quả:"
   ]
  },
  {
   "cell_type": "code",
   "execution_count": 22,
   "metadata": {},
   "outputs": [
    {
     "data": {
      "text/html": [
       "<div>\n",
       "<style scoped>\n",
       "    .dataframe tbody tr th:only-of-type {\n",
       "        vertical-align: middle;\n",
       "    }\n",
       "\n",
       "    .dataframe tbody tr th {\n",
       "        vertical-align: top;\n",
       "    }\n",
       "\n",
       "    .dataframe thead th {\n",
       "        text-align: right;\n",
       "    }\n",
       "</style>\n",
       "<table border=\"1\" class=\"dataframe\">\n",
       "  <thead>\n",
       "    <tr style=\"text-align: right;\">\n",
       "      <th></th>\n",
       "      <th>mae</th>\n",
       "      <th>model</th>\n",
       "      <th>rmse</th>\n",
       "    </tr>\n",
       "  </thead>\n",
       "  <tbody>\n",
       "    <tr>\n",
       "      <th>0</th>\n",
       "      <td>6.430506</td>\n",
       "      <td>xgb</td>\n",
       "      <td>9.252155</td>\n",
       "    </tr>\n",
       "    <tr>\n",
       "      <th>1</th>\n",
       "      <td>6.167399</td>\n",
       "      <td>lgbm</td>\n",
       "      <td>8.994146</td>\n",
       "    </tr>\n",
       "    <tr>\n",
       "      <th>2</th>\n",
       "      <td>6.365807</td>\n",
       "      <td>gb</td>\n",
       "      <td>9.167250</td>\n",
       "    </tr>\n",
       "    <tr>\n",
       "      <th>3</th>\n",
       "      <td>6.620899</td>\n",
       "      <td>mlp</td>\n",
       "      <td>9.554671</td>\n",
       "    </tr>\n",
       "    <tr>\n",
       "      <th>4</th>\n",
       "      <td>6.332703</td>\n",
       "      <td>voting</td>\n",
       "      <td>9.121664</td>\n",
       "    </tr>\n",
       "  </tbody>\n",
       "</table>\n",
       "</div>"
      ],
      "text/plain": [
       "        mae   model      rmse\n",
       "0  6.430506     xgb  9.252155\n",
       "1  6.167399    lgbm  8.994146\n",
       "2  6.365807      gb  9.167250\n",
       "3  6.620899     mlp  9.554671\n",
       "4  6.332703  voting  9.121664"
      ]
     },
     "execution_count": 22,
     "metadata": {},
     "output_type": "execute_result"
    }
   ],
   "source": [
    "data={'model':['xgb','lgbm','gb','mlp','voting'],'rmse':[a1,a2,a3,a4,a5], 'mae':[b1,b2,b3,b4,b5]}\n",
    "pd.DataFrame(data=data)"
   ]
  },
  {
   "cell_type": "markdown",
   "metadata": {},
   "source": [
    "#### => Dựa vào RMSE và MAE chọn LGBM(LGBMRegressor). MAE: 6.2"
   ]
  },
  {
   "cell_type": "markdown",
   "metadata": {},
   "source": [
    "### Tuning parameter"
   ]
  },
  {
   "cell_type": "code",
   "execution_count": 35,
   "metadata": {},
   "outputs": [
    {
     "name": "stderr",
     "output_type": "stream",
     "text": [
      "/usr/local/lib/python3.5/dist-packages/lightgbm/engine.py:116: UserWarning: Found `num_rounds` in params. Will use it instead of argument\n",
      "  warnings.warn(\"Found `{}` in params. Will use it instead of argument\".format(alias))\n"
     ]
    },
    {
     "data": {
      "text/plain": [
       "8.987302392664231"
      ]
     },
     "execution_count": 35,
     "metadata": {},
     "output_type": "execute_result"
    }
   ],
   "source": [
    "params = {'application': 'regression',\n",
    "          'boosting': 'gbdt',\n",
    "          'metric': 'root_mean_squared_error',\n",
    "          'num_leaves': 10,\n",
    "          'max_depth': 100,\n",
    "          'learning_rate': 0.09,\n",
    "          'bagging_fraction': 0.85,\n",
    "          'feature_fraction': 1,\n",
    "          'min_split_gain': 0.005,\n",
    "          'min_child_samples': 150,\n",
    "          'min_child_weight': 0.02,\n",
    "          'lambda_l2': 0.15,\n",
    "          'verbosity': 0,\n",
    "          'data_random_seed': 17,\n",
    "          'early_stop': 500,\n",
    "          'verbose_eval': False,\n",
    "          'num_rounds': 1000,\n",
    "        'n_estimators':1000}\n",
    "# LightGBM dataset formatting \n",
    "feature_names = X.columns.tolist()\n",
    "d_train = lgb.Dataset(x_train, y_train,\n",
    "                feature_name=feature_names)\n",
    "d_val = lgb.Dataset(x_test, y_test,\n",
    "                feature_name=feature_names)\n",
    "watchlist = [d_train, d_val]\n",
    "model = lgb.train(params,\n",
    "    train_set=d_train,\n",
    "    num_boost_round=params['num_rounds'],\n",
    "    valid_sets=watchlist,\n",
    "    verbose_eval=params['verbose_eval'],\n",
    "    early_stopping_rounds=params['early_stop'])\n",
    "ythat=model.predict(x_test, num_iteration=model.best_iteration)\n",
    "np.sqrt(mean_squared_error(y_test, ythat))"
   ]
  },
  {
   "cell_type": "markdown",
   "metadata": {},
   "source": [
    "### Add feature \n",
    "#### (Vận tốc trung bình của từng hexagon trong 20ph trước)\n",
    "#### - Rmse có giảm khoảng 0.2 nhưng do độ phức tạp của feature nếu chạy trong thực tế => không thêm feature này "
   ]
  },
  {
   "cell_type": "markdown",
   "metadata": {},
   "source": [
    "## Chỉ áp dụng với service='BIKE'"
   ]
  },
  {
   "cell_type": "code",
   "execution_count": 42,
   "metadata": {},
   "outputs": [],
   "source": [
    "df3=df1[df1.service_id.str.contains('BIKE')]"
   ]
  },
  {
   "cell_type": "code",
   "execution_count": 47,
   "metadata": {},
   "outputs": [],
   "source": [
    "df4=df3[['distance','n_service','lng_0','lat_0','cod','total_fee','lng_1','lat_1','revenue','hour',\n",
    "        'minute','dow','ss','avg_time','n_address_0','n_address_1','n_hex_0','n_hex_1','run_time']]\n",
    "X=df4.drop([\"run_time\"],axis=1)\n",
    "y=df4[\"run_time\"]"
   ]
  },
  {
   "cell_type": "code",
   "execution_count": 49,
   "metadata": {},
   "outputs": [],
   "source": [
    "x_train, x_test, y_train, y_test = train_test_split(X, y, test_size=0.25, shuffle=True)"
   ]
  },
  {
   "cell_type": "code",
   "execution_count": 55,
   "metadata": {},
   "outputs": [
    {
     "name": "stderr",
     "output_type": "stream",
     "text": [
      "/usr/local/lib/python3.5/dist-packages/lightgbm/engine.py:116: UserWarning: Found `num_rounds` in params. Will use it instead of argument\n",
      "  warnings.warn(\"Found `{}` in params. Will use it instead of argument\".format(alias))\n"
     ]
    },
    {
     "name": "stdout",
     "output_type": "stream",
     "text": [
      "RMSE 7.779222335885472\n",
      "MAE 5.351020180504443\n"
     ]
    }
   ],
   "source": [
    "params = {'application': 'regression',\n",
    "          'boosting': 'gbdt',\n",
    "          'metric': 'root_mean_squared_error',\n",
    "          'num_leaves': 10,\n",
    "          'max_depth': 100,\n",
    "          'learning_rate': 0.09,\n",
    "          'bagging_fraction': 0.85,\n",
    "          'feature_fraction': 1,\n",
    "          'min_split_gain': 0.005,\n",
    "          'min_child_samples': 150,\n",
    "          'min_child_weight': 0.02,\n",
    "          'lambda_l2': 0.15,\n",
    "          'verbosity': 0,\n",
    "          'data_random_seed': 17,\n",
    "          'early_stop': 500,\n",
    "          'verbose_eval': False,\n",
    "          'num_rounds': 1000,\n",
    "        'n_estimators':1000}\n",
    "# LightGBM dataset formatting \n",
    "feature_names = X.columns.tolist()\n",
    "d_train = lgb.Dataset(x_train, y_train,\n",
    "                feature_name=feature_names)\n",
    "d_val = lgb.Dataset(x_test, y_test,\n",
    "                feature_name=feature_names)\n",
    "watchlist = [d_train, d_val]\n",
    "model = lgb.train(params,\n",
    "    train_set=d_train,\n",
    "    num_boost_round=params['num_rounds'],\n",
    "    valid_sets=watchlist,\n",
    "    verbose_eval=params['verbose_eval'],\n",
    "    early_stopping_rounds=params['early_stop'])\n",
    "ythat=model.predict(x_test, num_iteration=model.best_iteration)\n",
    "print('RMSE',np.sqrt(mean_squared_error(y_test, ythat)))\n",
    "print('MAE',mean_absolute_error(y_test,ythat))"
   ]
  },
  {
   "cell_type": "code",
   "execution_count": null,
   "metadata": {},
   "outputs": [],
   "source": []
  },
  {
   "cell_type": "markdown",
   "metadata": {},
   "source": [
    "# *HAN"
   ]
  },
  {
   "cell_type": "markdown",
   "metadata": {},
   "source": [
    "### Tương tự:\n",
    "#### - Model: LGBM(LGBMRegressor)\n",
    "#### - RMSE: 8 và MAE: 5.5"
   ]
  },
  {
   "cell_type": "markdown",
   "metadata": {},
   "source": [
    "# 2. Accept time"
   ]
  },
  {
   "cell_type": "code",
   "execution_count": 56,
   "metadata": {},
   "outputs": [],
   "source": [
    "df5=pd.read_csv('./data_HAN_v2.csv')"
   ]
  },
  {
   "cell_type": "code",
   "execution_count": 58,
   "metadata": {},
   "outputs": [],
   "source": [
    "df5=df5[df5.accept_distance<200]"
   ]
  },
  {
   "cell_type": "markdown",
   "metadata": {},
   "source": [
    "####  Distribution của khoảng cách nhận đơn và khoảng cách giao hàng"
   ]
  },
  {
   "cell_type": "code",
   "execution_count": 59,
   "metadata": {},
   "outputs": [
    {
     "data": {
      "text/plain": [
       "<matplotlib.axes._subplots.AxesSubplot at 0x7f0b482944a8>"
      ]
     },
     "execution_count": 59,
     "metadata": {},
     "output_type": "execute_result"
    },
    {
     "data": {
      "image/png": "[encoded data removed]",
      "text/plain": [
       "<Figure size 864x432 with 2 Axes>"
      ]
     },
     "metadata": {
      "needs_background": "light"
     },
     "output_type": "display_data"
    }
   ],
   "source": [
    "f, ax=plt.subplots(1,2,figsize=(12,6))\n",
    "ax1=ax[0] \n",
    "sns.boxplot(df5.distance, ax=ax1)\n",
    "ax2=ax[1] \n",
    "sns.boxplot(df5.accept_distance,ax=ax2)"
   ]
  },
  {
   "cell_type": "markdown",
   "metadata": {},
   "source": [
    "#### - Do distribution của khoảng cách, thời gian nhận hàng và giao hàng khác nhau rất nhiều.\n",
    "#### => sẽ tách biệt thành 2 model riêng biệt (nhận hàng và giao hàng)"
   ]
  },
  {
   "cell_type": "code",
   "execution_count": 60,
   "metadata": {},
   "outputs": [],
   "source": [
    "df5['accept']=round((df5['board_time'].astype('datetime64')-df5['accept_time'].astype('datetime64')).dt.total_seconds()/60,0)"
   ]
  },
  {
   "cell_type": "code",
   "execution_count": 63,
   "metadata": {},
   "outputs": [],
   "source": [
    "df5['v']=df5['accept_distance']*60/df5['accept']"
   ]
  },
  {
   "cell_type": "code",
   "execution_count": 66,
   "metadata": {},
   "outputs": [],
   "source": [
    "df6=df5[(df5.v>=8)&(df5.v<30)]"
   ]
  },
  {
   "cell_type": "code",
   "execution_count": 68,
   "metadata": {},
   "outputs": [],
   "source": [
    "def toNumeric(dataframe, fromAtt, toAtt):\n",
    "  from sklearn import preprocessing\n",
    "  if dataframe[fromAtt].dtype == type(object):\n",
    "      le = preprocessing.LabelEncoder()# Dummies / One Hot Encoder  \n",
    "      dataframe[toAtt] = le.fit_transform(dataframe[fromAtt].astype(str))   \n",
    "  return dataframe"
   ]
  },
  {
   "cell_type": "code",
   "execution_count": 69,
   "metadata": {},
   "outputs": [
    {
     "name": "stderr",
     "output_type": "stream",
     "text": [
      "/usr/local/lib/python3.5/dist-packages/ipykernel_launcher.py:5: SettingWithCopyWarning: \n",
      "A value is trying to be set on a copy of a slice from a DataFrame.\n",
      "Try using .loc[row_indexer,col_indexer] = value instead\n",
      "\n",
      "See the caveats in the documentation: http://pandas.pydata.org/pandas-docs/stable/indexing.html#indexing-view-versus-copy\n",
      "  \"\"\"\n"
     ]
    }
   ],
   "source": [
    "df6 = toNumeric(df6, 'hex_0', 'n_hex_0')\n",
    "df6 = toNumeric(df6, 'hex_accept', 'hex_accept')\n",
    "df6 = toNumeric(df6, 'address_accept', 'n_address_accept')\n",
    "df6 = toNumeric(df6, 'address_0', 'n_address_0')"
   ]
  },
  {
   "cell_type": "code",
   "execution_count": 70,
   "metadata": {},
   "outputs": [],
   "source": [
    "df7=df6[['accept_distance','n_service','accept_lng','accept_lat','cod','total_fee','lng_0','lat_0','revenue','hour',\n",
    "        'minute','dow','ss','avg_time','n_address_accept','n_address_0','hex_accept','n_hex_0','accept']]"
   ]
  },
  {
   "cell_type": "code",
   "execution_count": 71,
   "metadata": {},
   "outputs": [
    {
     "name": "stdout",
     "output_type": "stream",
     "text": [
      "RMSE 2.2598230997381483\n",
      "MAE 1.589197433019458\n"
     ]
    }
   ],
   "source": [
    "X=df7.drop(['accept'],axis=1)\n",
    "Y=df7[\"accept\"]\n",
    "\n",
    "x_train, x_test, y_train, y_test = train_test_split(X, Y, test_size=0.3, shuffle=False)\n",
    "model=lgb.LGBMRegressor(n_estimators=1000)\n",
    "model.fit(x_train,y_train)\n",
    "#Predict \n",
    "ythat = np.round(model.predict(x_test),0)\n",
    "print('RMSE',np.sqrt(mean_squared_error(y_test, ythat)))\n",
    "print('MAE',mean_absolute_error(y_test,ythat))"
   ]
  },
  {
   "cell_type": "markdown",
   "metadata": {},
   "source": [
    "# Kết luận:\n",
    "### Delivery time:\n",
    "#### - model: LGBMRegressor\n",
    "#### - MAE_SGN: 6.1 (4 service) , 5.3 (Bike)\n",
    "#### - MAE_HAN: 5.5 (4 service)\n",
    "\n",
    "### Accept time:\n",
    "#### - model: LGBMRegressor\n",
    "#### - MAE: 1.6 (4 service)"
   ]
  },
  {
   "cell_type": "markdown",
   "metadata": {},
   "source": [
    "## Khó khăn:\n",
    "#### - Đã sử dụng kmeans, DBscan, mean shift để phân loại ra tập data chứa nhiễu( ấn hoàn thành ngay or quên không ấn hoàn thành...) , nhưng kết quả không khả quan => cần tìm biện pháp cải thiện"
   ]
  },
  {
   "cell_type": "code",
   "execution_count": 72,
   "metadata": {},
   "outputs": [
    {
     "data": {
      "text/html": [
       "<script>\n",
       "code_show=true; \n",
       "function code_toggle() {\n",
       " if (code_show){\n",
       " $('div.input').hide();\n",
       " } else {\n",
       " $('div.input').show();\n",
       " }\n",
       " code_show = !code_show\n",
       "} \n",
       "$( document ).ready(code_toggle);\n",
       "</script>\n",
       "The raw code for this IPython notebook is by default hidden for easier reading.\n",
       "To toggle on/off the raw code, click <a href=\"javascript:code_toggle()\">here</a>."
      ],
      "text/plain": [
       "<IPython.core.display.HTML object>"
      ]
     },
     "execution_count": 72,
     "metadata": {},
     "output_type": "execute_result"
    }
   ],
   "source": [
    "from IPython.display import HTML\n",
    "HTML('''<script>\n",
    "code_show=true; \n",
    "function code_toggle() {\n",
    " if (code_show){\n",
    " $('div.input').hide();\n",
    " } else {\n",
    " $('div.input').show();\n",
    " }\n",
    " code_show = !code_show\n",
    "} \n",
    "$( document ).ready(code_toggle);\n",
    "</script>\n",
    "The raw code for this IPython notebook is by default hidden for easier reading.\n",
    "To toggle on/off the raw code, click <a href=\"javascript:code_toggle()\">here</a>.''')"
   ]
  },
  {
   "cell_type": "code",
   "execution_count": null,
   "metadata": {},
   "outputs": [],
   "source": []
  }
 ],
 "metadata": {
  "hide_input": false,
  "kernelspec": {
   "display_name": "Python 3",
   "language": "python",
   "name": "python3"
  },
  "language_info": {
   "codemirror_mode": {
    "name": "ipython",
    "version": 3
   },
   "file_extension": ".py",
   "mimetype": "text/x-python",
   "name": "python",
   "nbconvert_exporter": "python",
   "pygments_lexer": "ipython3",
   "version": "3.5.2"
  }
 },
 "nbformat": 4,
 "nbformat_minor": 2
}
